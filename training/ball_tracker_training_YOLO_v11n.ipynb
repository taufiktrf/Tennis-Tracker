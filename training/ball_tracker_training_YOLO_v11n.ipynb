{
 "cells": [
  {
   "cell_type": "code",
   "execution_count": null,
   "metadata": {
    "vscode": {
     "languageId": "plaintext"
    }
   },
   "outputs": [],
   "source": [
    "!pip install roboflow ultralytics\n",
    "\n",
    "# Download Dataset\n",
    "from roboflow import Roboflow\n",
    "rf = Roboflow(api_key=\"ENTER YOUR API KEY HERE\")\n",
    "project = rf.workspace(\"viren-dhanwani\").project(\"tennis-ball-detection\")\n",
    "dataset = project.version(6).download(\"yolov11\")\n",
    "\n",
    "# Train YOLO Model\n",
    "from ultralytics import YOLO\n",
    "\n",
    "!yolo task=detect mode=train model=yolo11n.pt data={dataset.location}/data.yaml epochs=100 imgsz=640 plots=True"
   ]
  }
 ],
 "metadata": {
  "language_info": {
   "name": "python"
  }
 },
 "nbformat": 4,
 "nbformat_minor": 2
}
